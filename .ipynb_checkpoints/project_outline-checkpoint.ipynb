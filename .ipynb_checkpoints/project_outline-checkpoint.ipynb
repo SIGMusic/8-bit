{
 "cells": [
  {
   "cell_type": "markdown",
   "metadata": {},
   "source": [
    "# 8-bit Music Project\n",
    "\n",
    "## Goal\n",
    "Converting a WAV file into a new WAV file that sounds like 8-bit music\n",
    "\n",
    "## Methods\n",
    " - *Reduce smoothness*\n",
    "     - *Apply different changes to different registers*\n",
    "\n",
    "## Timeline\n",
    "### Stage 1\n",
    "```flow\n",
    "research=>start: Research may happen anywhere\n",
    "think=>operation: Brainstorm ideas\n",
    "test=>operation: Make the ideas into prototypes\n",
    "discuss=>condition: Discuss the outcome\n",
    "\n",
    "research->think->test->discuss\n",
    "discuss(yes)->think\n",
    "discuss(no)->think\n",
    "```\n",
    "\n",
    "### Stage 2\n",
    "```flow\n",
    "refine=>start: Refine one of the prototypes\n",
    "frontend=>operation: Design a front-end\n",
    "(and possibly develop it)\n",
    "end=>end: Complete in February\n",
    "\n",
    "refine->frontend->end\n",
    "```\n",
    "\n",
    "## Brainstorm area\n",
    " - Reduce smoothness\n",
    " - Chord & rhythm recognition"
   ]
  }
 ],
 "metadata": {
  "kernelspec": {
   "display_name": "Python 3",
   "language": "python",
   "name": "python3"
  },
  "language_info": {
   "codemirror_mode": {
    "name": "ipython",
    "version": 3
   },
   "file_extension": ".py",
   "mimetype": "text/x-python",
   "name": "python",
   "nbconvert_exporter": "python",
   "pygments_lexer": "ipython3",
   "version": "3.6.8"
  }
 },
 "nbformat": 4,
 "nbformat_minor": 2
}
